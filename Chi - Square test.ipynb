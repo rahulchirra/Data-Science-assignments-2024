{
 "cells": [
  {
   "cell_type": "code",
   "execution_count": 1,
   "id": "f184146c-911b-41ab-bb8b-ac112dc603dd",
   "metadata": {},
   "outputs": [],
   "source": [
    "import pandas as pd\n",
    "import numpy as np \n",
    "from scipy import stats"
   ]
  },
  {
   "cell_type": "markdown",
   "id": "c866b727-c75c-4ebf-9737-ea23d50cbc18",
   "metadata": {},
   "source": [
    " Null hypothesis (H0): There is no association between the type of smart home device and customer satisfaction level.\n",
    " Alternative hypothesis (H1): There is an association between the type of smart home device and customer satisfaction level."
   ]
  },
  {
   "cell_type": "code",
   "execution_count": 4,
   "id": "6f53e878-f309-429b-ba40-9b19e64a06d5",
   "metadata": {},
   "outputs": [
    {
     "name": "stdout",
     "output_type": "stream",
     "text": [
      "Chi-Square Statistic: 5.638227513227513\n",
      "Degrees of Freedom: 4\n",
      "Critical Value: 9.487729036781154\n"
     ]
    }
   ],
   "source": [
    "from scipy.stats import chi2\n",
    "\n",
    "# Step 1: State the Hypotheses\n",
    "# Already stated above\n",
    "\n",
    "# Step 2: Compute the Chi-Square Statistic\n",
    "observed = [\n",
    "    [50, 70],\n",
    "    [80, 100],\n",
    "    [60, 90],\n",
    "    [30, 50],\n",
    "    [20, 50]\n",
    "]\n",
    "# Calculate expected frequencies\n",
    "\n",
    "chi2, p, dof, expected = chi2_contingency(contingency_table)\n",
    "\n",
    "row_totals = [sum(row) for row in observed]\n",
    "col_totals = [sum(col) for col in zip(*observed)]\n",
    "total = sum(row_totals)\n",
    "expected = [[row_totals[i] * col_totals[j] / total for j in range(len(col_totals))] for i in range(len(row_totals))]\n",
    "chi2_statistic = sum((observed[i][j] - expected[i][j])**2 / expected[i][j] for i in range(len(observed)) for j in range(len(observed[0])))\n",
    "print(\"Chi-Square Statistic:\", chi2_statistic)\n",
    "\n",
    "# Step 3: Determine the Critical Value\n",
    "alpha = 0.05\n",
    "degrees_of_freedom = (len(row_totals) - 1) * (len(col_totals) - 1)\n",
    "critical_value = chi2.ppf(1 - alpha, degrees_of_freedom)\n",
    "print(\"Degrees of Freedom:\", degrees_of_freedom)\n",
    "print(\"Critical Value:\", critical_value)\n"
   ]
  },
  {
   "cell_type": "markdown",
   "id": "a557bb2b-8086-4023-b91d-d083be8d829a",
   "metadata": {},
   "source": [
    "#### conclusion :"
   ]
  },
  {
   "cell_type": "code",
   "execution_count": 5,
   "id": "a7a3c8a7-661a-48fb-81be-6ccb0b8514fa",
   "metadata": {},
   "outputs": [
    {
     "name": "stdout",
     "output_type": "stream",
     "text": [
      "Fail to reject the null hypothesis. There is no significant association between the type of smart home device and customer satisfaction level.\n"
     ]
    }
   ],
   "source": [
    "# Step 4: Make a Decision\n",
    "if chi2_statistic > critical_value:\n",
    "    print(\"Reject the null hypothesis. There is a significant association between the type of smart home device and customer satisfaction level.\")\n",
    "else:\n",
    "    print(\"Fail to reject the null hypothesis. There is no significant association between the type of smart home device and customer satisfaction level.\")"
   ]
  },
  {
   "cell_type": "code",
   "execution_count": null,
   "id": "bb0c44dd-c0ad-4905-ba71-a97f8dbc7abb",
   "metadata": {},
   "outputs": [],
   "source": []
  }
 ],
 "metadata": {
  "kernelspec": {
   "display_name": "Python 3 (ipykernel)",
   "language": "python",
   "name": "python3"
  },
  "language_info": {
   "codemirror_mode": {
    "name": "ipython",
    "version": 3
   },
   "file_extension": ".py",
   "mimetype": "text/x-python",
   "name": "python",
   "nbconvert_exporter": "python",
   "pygments_lexer": "ipython3",
   "version": "3.11.7"
  }
 },
 "nbformat": 4,
 "nbformat_minor": 5
}
