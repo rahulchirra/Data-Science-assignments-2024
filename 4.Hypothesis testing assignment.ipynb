{
 "cells": [
  {
   "cell_type": "code",
   "execution_count": 14,
   "id": "e4bb1505-fab4-4af4-bc48-54378f9c7373",
   "metadata": {},
   "outputs": [],
   "source": [
    "import numpy as np \n",
    "import pandas as pd \n",
    "import scipy.stats as stats\n",
    "from scipy.stats import norm"
   ]
  },
  {
   "cell_type": "markdown",
   "id": "d12a2b9a-3549-4853-877c-5852a4965523",
   "metadata": {},
   "source": [
    "##### Hypothesis statement :"
   ]
  },
  {
   "cell_type": "markdown",
   "id": "1d1ee821-4ac3-48c4-9fb2-4737947277f2",
   "metadata": {},
   "source": [
    "A statistical hypothesis is a statement of parameter one or more of population.\n",
    "testing of hypothesis is deciding the accept or reject the hypothesis "
   ]
  },
  {
   "cell_type": "code",
   "execution_count": 15,
   "id": "c451cd86-0b87-47cd-bcd9-dbeee528a063",
   "metadata": {},
   "outputs": [
    {
     "name": "stdout",
     "output_type": "stream",
     "text": [
      "Test Statistic: -38.0\n"
     ]
    }
   ],
   "source": [
    "# Given data\n",
    "sample_mean = 3050  # Mean weekly cost of the sample\n",
    "theoretical_mean = 1000 + 5 * 600  # Theoretical mean weekly cost\n",
    "population_std = 5 * 25  # Standard deviation of number of units produced\n",
    "n = 25  # Sample size\n",
    "test_statistic = (sample_mean - theoretical_mean) / (population_std / np.sqrt(n))\n",
    "\n",
    "print(\"Test Statistic:\", test_statistic)\n"
   ]
  },
  {
   "cell_type": "markdown",
   "id": "96d90a5c-317e-4fc8-b9e8-a1b1d99442b4",
   "metadata": {},
   "source": [
    "##### Critical value :"
   ]
  },
  {
   "cell_type": "code",
   "execution_count": 16,
   "id": "efb9dad0-9c66-4eff-89db-ef49d0fe0640",
   "metadata": {},
   "outputs": [
    {
     "name": "stdout",
     "output_type": "stream",
     "text": [
      "Critical Value: 1.6448536269514722\n"
     ]
    }
   ],
   "source": [
    "alpha = 0.05\n",
    "# Find the critical z-value for the upper tail\n",
    "critical_value = norm.ppf(1 - alpha)\n",
    "print(\"Critical Value:\", critical_value)\n"
   ]
  },
  {
   "cell_type": "code",
   "execution_count": 17,
   "id": "7baca107-ab16-465c-8fa3-228bc829edb3",
   "metadata": {
    "scrolled": true
   },
   "outputs": [
    {
     "name": "stdout",
     "output_type": "stream",
     "text": [
      "Critical Value (Upper Tail): 1.959963984540054\n",
      "Critical Value (Lower Tail): -1.9599639845400545\n"
     ]
    }
   ],
   "source": [
    "alpha = 0.05\n",
    "\n",
    "critical_value_upper = norm.ppf(1 - alpha/2)\n",
    "critical_value_lower = norm.ppf(alpha/2)\n",
    "\n",
    "print(\"Critical Value (Upper Tail):\", critical_value_upper)\n",
    "print(\"Critical Value (Lower Tail):\", critical_value_lower)"
   ]
  },
  {
   "cell_type": "markdown",
   "id": "76232fc5-e491-46cd-b862-b250e900c274",
   "metadata": {},
   "source": [
    "##### Decision :"
   ]
  },
  {
   "cell_type": "code",
   "execution_count": 18,
   "id": "95ac1e52-d48e-491a-ba80-9eff99a238cd",
   "metadata": {},
   "outputs": [
    {
     "name": "stdout",
     "output_type": "stream",
     "text": [
      "Reject the null hypothesis. The observed mean weekly operating cost is significantly different from the theoretical cost model.\n"
     ]
    }
   ],
   "source": [
    "test_statistic = -38  # Assuming the negative value for consistency with previous calculation\n",
    "\n",
    "critical_value = 1.96  # From the standard normal distribution table for alpha = 0.05\n",
    "\n",
    "# Make a decision\n",
    "if abs(test_statistic) > critical_value:\n",
    "    print(\"Reject the null hypothesis. The observed mean weekly operating cost is significantly different from the theoretical cost model.\")\n",
    "else:\n",
    "    print(\"Fail to reject the null hypothesis. There is no significant evidence to conclude that the observed mean weekly operating cost is different from the theoretical cost model.\")\n"
   ]
  },
  {
   "cell_type": "markdown",
   "id": "05819d09-dbbe-46ba-b54a-c0d247ca7831",
   "metadata": {},
   "source": [
    "##### conclusion"
   ]
  },
  {
   "cell_type": "markdown",
   "id": "ba45d855-99dd-4b33-afea-f835e350ec16",
   "metadata": {},
   "source": [
    "Based on the decision made in step 4, where we fail to reject the null hypothesis, we do not have sufficient evidence to support the restaurant owners' claim that the weekly operating costs are higher than the model suggests.\n",
    "\n",
    "Therefore, we cannot conclude that there is strong evidence to support the restaurant owners' claim based on the data and hypothesis test conducted. The observed mean weekly operating cost is not significantly different from the theoretical cost model of $1,000 + $5X for X = 600 units."
   ]
  },
  {
   "cell_type": "code",
   "execution_count": null,
   "id": "6930b06e-7619-4911-a315-d0f055e83797",
   "metadata": {},
   "outputs": [],
   "source": []
  }
 ],
 "metadata": {
  "kernelspec": {
   "display_name": "Python 3 (ipykernel)",
   "language": "python",
   "name": "python3"
  },
  "language_info": {
   "codemirror_mode": {
    "name": "ipython",
    "version": 3
   },
   "file_extension": ".py",
   "mimetype": "text/x-python",
   "name": "python",
   "nbconvert_exporter": "python",
   "pygments_lexer": "ipython3",
   "version": "3.11.7"
  }
 },
 "nbformat": 4,
 "nbformat_minor": 5
}
