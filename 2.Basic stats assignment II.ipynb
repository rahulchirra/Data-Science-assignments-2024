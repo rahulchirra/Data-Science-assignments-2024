{
 "cells": [
  {
   "cell_type": "markdown",
   "id": "607881f9-7532-4bec-9a44-a07bf4ba9440",
   "metadata": {},
   "source": [
    "## confidence intervals :"
   ]
  },
  {
   "cell_type": "code",
   "execution_count": 1,
   "id": "018975e4-47d6-4a4c-862e-a135ecfa237b",
   "metadata": {},
   "outputs": [],
   "source": [
    "import pandas as pd\n",
    "import numpy as np\n",
    "from scipy.stats import t\n",
    "from scipy import stats"
   ]
  },
  {
   "cell_type": "markdown",
   "id": "c35dd838-f917-476d-bd87-d39d94c4b66f",
   "metadata": {},
   "source": [
    "##### sample mean and standard deviation"
   ]
  },
  {
   "cell_type": "markdown",
   "id": "f4d18c5b-ed7d-40a5-83f1-b503c3fdeed5",
   "metadata": {},
   "source": [
    "We compute the sample mean (\n",
    "𝑥\n",
    "ˉ\n",
    "x\n",
    "ˉ\n",
    " ) and the sample standard deviation (\n",
    "𝑠\n",
    "s) from the given sample data."
   ]
  },
  {
   "cell_type": "code",
   "execution_count": 30,
   "id": "bf658a21-febd-49f1-8d10-49683b600035",
   "metadata": {},
   "outputs": [
    {
     "name": "stdout",
     "output_type": "stream",
     "text": [
      "margin of error: 0.1484693282152996\n",
      "sample size: 15\n",
      "Degrees of freedom: 14\n",
      "standard error of the mean: 0.04987476379384733\n"
     ]
    }
   ],
   "source": [
    "import numpy as np\n",
    "from scipy.stats import t\n",
    "\n",
    "# Define the sample data\n",
    "durability_data = [1.13, 1.55, 1.43, 0.92, 1.25, 1.36, 1.32, 0.85, 1.07, 1.48, 1.20, 1.33, 1.18, 1.22, 1.29]\n",
    "\n",
    "# Calculate sample mean and sample standard deviation\n",
    "sample_mean = np.mean(durability_data)\n",
    "sample_std = np.std(durability_data, ddof=1)  # ddof=1 for sample standard deviation\n",
    "\n",
    "# Determine sample size\n",
    "n = len(durability_data)\n",
    "\n",
    "# Calculate standard error of the mean (SEM)\n",
    "SEM = sample_std / np.sqrt(n)\n",
    "\n",
    "# Degrees of freedom\n",
    "df = n - 1\n",
    "\n",
    "\n",
    "print(\"margin of error:\",MOE)\n",
    "print(\"sample size:\",n)\n",
    "print(\"Degrees of freedom:\",df)\n",
    "print(\"standard error of the mean:\",SEM)"
   ]
  },
  {
   "cell_type": "markdown",
   "id": "56f67f69-efd7-4b64-9803-15cea4383f16",
   "metadata": {},
   "source": [
    "##### Construct Confidence Interval:"
   ]
  },
  {
   "cell_type": "markdown",
   "id": "57b865e2-679e-4614-8139-0f7f39a87711",
   "metadata": {},
   "source": [
    "\n",
    "Construct the confidence interval by adding and subtracting the margin of error from the sample mean.\n",
    "The confidence interval is given by \n",
    "𝑥\n",
    "ˉ\n",
    "−\n",
    "MOE\n",
    "x\n",
    "ˉ\n",
    " −MOE to \n",
    "𝑥\n",
    "ˉ\n",
    "+\n",
    "MOE\n",
    "x\n",
    "ˉ\n",
    " +MOE"
   ]
  },
  {
   "cell_type": "code",
   "execution_count": 31,
   "id": "66486862-f464-4dd0-85ae-21bb5d0e3fa3",
   "metadata": {},
   "outputs": [
    {
     "name": "stdout",
     "output_type": "stream",
     "text": [
      "Critical value for a 99% confdence interval: 2.97684273411266\n",
      "99% Confidence Interval for Mean Durability:\n",
      "Lower Bound: 1.090197338451367 million characters\n",
      "Upper Bound: 1.3871359948819662 million characters\n"
     ]
    }
   ],
   "source": [
    "#Calculate the critical value for a 99% confidence interval\n",
    "t_alpha_2 = t.ppf(0.995, df)  # 99% confidence level, two-tailed\n",
    "\n",
    "         \n",
    "# Calculate margin of error (MOE)\n",
    "MOE = t_alpha_2 * SEM\n",
    "\n",
    "# Construct confidence interval\n",
    "lower_bound = sample_mean - MOE\n",
    "upper_bound = sample_mean + MOE\n",
    "           \n",
    "print(\"Critical value for a 99% confdence interval:\", t_alpha_2)\n",
    "print(\"99% Confidence Interval for Mean Durability:\")\n",
    "print(\"Lower Bound:\", lower_bound, \"million characters\")\n",
    "print(\"Upper Bound:\", upper_bound, \"million characters\")"
   ]
  },
  {
   "cell_type": "code",
   "execution_count": null,
   "id": "ec726503-0bfb-48b8-9199-9b7a0fa3adcc",
   "metadata": {},
   "outputs": [],
   "source": []
  },
  {
   "cell_type": "markdown",
   "id": "ded7f50a-c669-4771-92e9-806950e0bbf1",
   "metadata": {},
   "source": [
    "\n",
    "\n",
    "The rationale behind using the t-distribution is that when the population standard deviation is unknown (as is the case here), and the sample size is relatively smmall, the t-distribution provides a more accurate estimation of the population mean. It takes into account the variability introduced by the smaller sample size, leading to wider confidence intervals compared to using the standard normal distribution (Z-distribution). This is because the t-distribution has heavier tails, which accommodates the greater uncertainty associated with smaller sample sizes."
   ]
  },
  {
   "cell_type": "code",
   "execution_count": null,
   "id": "fc4ae4d5-5839-4c8d-8cd3-c046a8ea8e21",
   "metadata": {},
   "outputs": [],
   "source": []
  },
  {
   "cell_type": "code",
   "execution_count": null,
   "id": "6af8f7a4-5974-4f87-9892-756d9f25b88e",
   "metadata": {},
   "outputs": [],
   "source": []
  }
 ],
 "metadata": {
  "kernelspec": {
   "display_name": "Python 3 (ipykernel)",
   "language": "python",
   "name": "python3"
  },
  "language_info": {
   "codemirror_mode": {
    "name": "ipython",
    "version": 3
   },
   "file_extension": ".py",
   "mimetype": "text/x-python",
   "name": "python",
   "nbconvert_exporter": "python",
   "pygments_lexer": "ipython3",
   "version": "3.11.7"
  }
 },
 "nbformat": 4,
 "nbformat_minor": 5
}
