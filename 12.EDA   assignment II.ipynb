{
 "cells": [
  {
   "cell_type": "code",
   "execution_count": 1,
   "id": "19c8600b-e12e-4d4a-82ac-077b28cef226",
   "metadata": {},
   "outputs": [],
   "source": [
    "import pandas as pd\n",
    "import numpy as np\n",
    "import matplotlib.pyplot as plt \n",
    "import seaborn as sns"
   ]
  },
  {
   "cell_type": "code",
   "execution_count": 2,
   "id": "90b4a6d7-f5c8-48e5-9c4b-3e6f9beafec7",
   "metadata": {},
   "outputs": [
    {
     "data": {
      "text/html": [
       "<div>\n",
       "<style scoped>\n",
       "    .dataframe tbody tr th:only-of-type {\n",
       "        vertical-align: middle;\n",
       "    }\n",
       "\n",
       "    .dataframe tbody tr th {\n",
       "        vertical-align: top;\n",
       "    }\n",
       "\n",
       "    .dataframe thead th {\n",
       "        text-align: right;\n",
       "    }\n",
       "</style>\n",
       "<table border=\"1\" class=\"dataframe\">\n",
       "  <thead>\n",
       "    <tr style=\"text-align: right;\">\n",
       "      <th></th>\n",
       "      <th>age</th>\n",
       "      <th>workclass</th>\n",
       "      <th>fnlwgt</th>\n",
       "      <th>education</th>\n",
       "      <th>education_num</th>\n",
       "      <th>marital_status</th>\n",
       "      <th>occupation</th>\n",
       "      <th>relationship</th>\n",
       "      <th>race</th>\n",
       "      <th>sex</th>\n",
       "      <th>capital_gain</th>\n",
       "      <th>capital_loss</th>\n",
       "      <th>hours_per_week</th>\n",
       "      <th>native_country</th>\n",
       "      <th>income</th>\n",
       "    </tr>\n",
       "  </thead>\n",
       "  <tbody>\n",
       "    <tr>\n",
       "      <th>0</th>\n",
       "      <td>39</td>\n",
       "      <td>State-gov</td>\n",
       "      <td>77516</td>\n",
       "      <td>Bachelors</td>\n",
       "      <td>13</td>\n",
       "      <td>Never-married</td>\n",
       "      <td>Adm-clerical</td>\n",
       "      <td>Not-in-family</td>\n",
       "      <td>White</td>\n",
       "      <td>Male</td>\n",
       "      <td>2174</td>\n",
       "      <td>0</td>\n",
       "      <td>40</td>\n",
       "      <td>United-States</td>\n",
       "      <td>&lt;=50K</td>\n",
       "    </tr>\n",
       "    <tr>\n",
       "      <th>1</th>\n",
       "      <td>50</td>\n",
       "      <td>Self-emp-not-inc</td>\n",
       "      <td>83311</td>\n",
       "      <td>Bachelors</td>\n",
       "      <td>13</td>\n",
       "      <td>Married-civ-spouse</td>\n",
       "      <td>Exec-managerial</td>\n",
       "      <td>Husband</td>\n",
       "      <td>White</td>\n",
       "      <td>Male</td>\n",
       "      <td>0</td>\n",
       "      <td>0</td>\n",
       "      <td>13</td>\n",
       "      <td>United-States</td>\n",
       "      <td>&lt;=50K</td>\n",
       "    </tr>\n",
       "    <tr>\n",
       "      <th>2</th>\n",
       "      <td>38</td>\n",
       "      <td>Private</td>\n",
       "      <td>215646</td>\n",
       "      <td>HS-grad</td>\n",
       "      <td>9</td>\n",
       "      <td>Divorced</td>\n",
       "      <td>Handlers-cleaners</td>\n",
       "      <td>Not-in-family</td>\n",
       "      <td>White</td>\n",
       "      <td>Male</td>\n",
       "      <td>0</td>\n",
       "      <td>0</td>\n",
       "      <td>40</td>\n",
       "      <td>United-States</td>\n",
       "      <td>&lt;=50K</td>\n",
       "    </tr>\n",
       "    <tr>\n",
       "      <th>3</th>\n",
       "      <td>53</td>\n",
       "      <td>Private</td>\n",
       "      <td>234721</td>\n",
       "      <td>11th</td>\n",
       "      <td>7</td>\n",
       "      <td>Married-civ-spouse</td>\n",
       "      <td>Handlers-cleaners</td>\n",
       "      <td>Husband</td>\n",
       "      <td>Black</td>\n",
       "      <td>Male</td>\n",
       "      <td>0</td>\n",
       "      <td>0</td>\n",
       "      <td>40</td>\n",
       "      <td>United-States</td>\n",
       "      <td>&lt;=50K</td>\n",
       "    </tr>\n",
       "    <tr>\n",
       "      <th>4</th>\n",
       "      <td>28</td>\n",
       "      <td>Private</td>\n",
       "      <td>338409</td>\n",
       "      <td>Bachelors</td>\n",
       "      <td>13</td>\n",
       "      <td>Married-civ-spouse</td>\n",
       "      <td>Prof-specialty</td>\n",
       "      <td>Wife</td>\n",
       "      <td>Black</td>\n",
       "      <td>Female</td>\n",
       "      <td>0</td>\n",
       "      <td>0</td>\n",
       "      <td>40</td>\n",
       "      <td>Cuba</td>\n",
       "      <td>&lt;=50K</td>\n",
       "    </tr>\n",
       "  </tbody>\n",
       "</table>\n",
       "</div>"
      ],
      "text/plain": [
       "   age          workclass  fnlwgt   education  education_num  \\\n",
       "0   39          State-gov   77516   Bachelors             13   \n",
       "1   50   Self-emp-not-inc   83311   Bachelors             13   \n",
       "2   38            Private  215646     HS-grad              9   \n",
       "3   53            Private  234721        11th              7   \n",
       "4   28            Private  338409   Bachelors             13   \n",
       "\n",
       "        marital_status          occupation    relationship    race      sex  \\\n",
       "0        Never-married        Adm-clerical   Not-in-family   White     Male   \n",
       "1   Married-civ-spouse     Exec-managerial         Husband   White     Male   \n",
       "2             Divorced   Handlers-cleaners   Not-in-family   White     Male   \n",
       "3   Married-civ-spouse   Handlers-cleaners         Husband   Black     Male   \n",
       "4   Married-civ-spouse      Prof-specialty            Wife   Black   Female   \n",
       "\n",
       "   capital_gain  capital_loss  hours_per_week  native_country  income  \n",
       "0          2174             0              40   United-States   <=50K  \n",
       "1             0             0              13   United-States   <=50K  \n",
       "2             0             0              40   United-States   <=50K  \n",
       "3             0             0              40   United-States   <=50K  \n",
       "4             0             0              40            Cuba   <=50K  "
      ]
     },
     "execution_count": 2,
     "metadata": {},
     "output_type": "execute_result"
    }
   ],
   "source": [
    "data = pd.read_csv(r\"D:\\datasets\\adult_with_headers.csv\")\n",
    "data.head()"
   ]
  },
  {
   "cell_type": "code",
   "execution_count": 3,
   "id": "dcf22497-9a46-45f4-9ec6-081ceb36283d",
   "metadata": {},
   "outputs": [
    {
     "data": {
      "text/plain": [
       "(32561, 15)"
      ]
     },
     "execution_count": 3,
     "metadata": {},
     "output_type": "execute_result"
    }
   ],
   "source": [
    "data.shape"
   ]
  },
  {
   "cell_type": "code",
   "execution_count": 4,
   "id": "a218f2aa-b347-42fb-bf14-5e4a16f6543d",
   "metadata": {},
   "outputs": [
    {
     "data": {
      "text/plain": [
       "Index(['age', 'workclass', 'fnlwgt', 'education', 'education_num',\n",
       "       'marital_status', 'occupation', 'relationship', 'race', 'sex',\n",
       "       'capital_gain', 'capital_loss', 'hours_per_week', 'native_country',\n",
       "       'income'],\n",
       "      dtype='object')"
      ]
     },
     "execution_count": 4,
     "metadata": {},
     "output_type": "execute_result"
    }
   ],
   "source": [
    "data.columns"
   ]
  },
  {
   "cell_type": "code",
   "execution_count": 5,
   "id": "756fe0ed-809c-41f6-a2e1-c6c184a4ea85",
   "metadata": {},
   "outputs": [
    {
     "name": "stdout",
     "output_type": "stream",
     "text": [
      "Summary Statistics:\n"
     ]
    },
    {
     "data": {
      "text/html": [
       "<div>\n",
       "<style scoped>\n",
       "    .dataframe tbody tr th:only-of-type {\n",
       "        vertical-align: middle;\n",
       "    }\n",
       "\n",
       "    .dataframe tbody tr th {\n",
       "        vertical-align: top;\n",
       "    }\n",
       "\n",
       "    .dataframe thead th {\n",
       "        text-align: right;\n",
       "    }\n",
       "</style>\n",
       "<table border=\"1\" class=\"dataframe\">\n",
       "  <thead>\n",
       "    <tr style=\"text-align: right;\">\n",
       "      <th></th>\n",
       "      <th>age</th>\n",
       "      <th>fnlwgt</th>\n",
       "      <th>education_num</th>\n",
       "      <th>capital_gain</th>\n",
       "      <th>capital_loss</th>\n",
       "      <th>hours_per_week</th>\n",
       "    </tr>\n",
       "  </thead>\n",
       "  <tbody>\n",
       "    <tr>\n",
       "      <th>count</th>\n",
       "      <td>32561.000000</td>\n",
       "      <td>3.256100e+04</td>\n",
       "      <td>32561.000000</td>\n",
       "      <td>32561.000000</td>\n",
       "      <td>32561.000000</td>\n",
       "      <td>32561.000000</td>\n",
       "    </tr>\n",
       "    <tr>\n",
       "      <th>mean</th>\n",
       "      <td>38.581647</td>\n",
       "      <td>1.897784e+05</td>\n",
       "      <td>10.080679</td>\n",
       "      <td>1077.648844</td>\n",
       "      <td>87.303830</td>\n",
       "      <td>40.437456</td>\n",
       "    </tr>\n",
       "    <tr>\n",
       "      <th>std</th>\n",
       "      <td>13.640433</td>\n",
       "      <td>1.055500e+05</td>\n",
       "      <td>2.572720</td>\n",
       "      <td>7385.292085</td>\n",
       "      <td>402.960219</td>\n",
       "      <td>12.347429</td>\n",
       "    </tr>\n",
       "    <tr>\n",
       "      <th>min</th>\n",
       "      <td>17.000000</td>\n",
       "      <td>1.228500e+04</td>\n",
       "      <td>1.000000</td>\n",
       "      <td>0.000000</td>\n",
       "      <td>0.000000</td>\n",
       "      <td>1.000000</td>\n",
       "    </tr>\n",
       "    <tr>\n",
       "      <th>25%</th>\n",
       "      <td>28.000000</td>\n",
       "      <td>1.178270e+05</td>\n",
       "      <td>9.000000</td>\n",
       "      <td>0.000000</td>\n",
       "      <td>0.000000</td>\n",
       "      <td>40.000000</td>\n",
       "    </tr>\n",
       "    <tr>\n",
       "      <th>50%</th>\n",
       "      <td>37.000000</td>\n",
       "      <td>1.783560e+05</td>\n",
       "      <td>10.000000</td>\n",
       "      <td>0.000000</td>\n",
       "      <td>0.000000</td>\n",
       "      <td>40.000000</td>\n",
       "    </tr>\n",
       "    <tr>\n",
       "      <th>75%</th>\n",
       "      <td>48.000000</td>\n",
       "      <td>2.370510e+05</td>\n",
       "      <td>12.000000</td>\n",
       "      <td>0.000000</td>\n",
       "      <td>0.000000</td>\n",
       "      <td>45.000000</td>\n",
       "    </tr>\n",
       "    <tr>\n",
       "      <th>max</th>\n",
       "      <td>90.000000</td>\n",
       "      <td>1.484705e+06</td>\n",
       "      <td>16.000000</td>\n",
       "      <td>99999.000000</td>\n",
       "      <td>4356.000000</td>\n",
       "      <td>99.000000</td>\n",
       "    </tr>\n",
       "  </tbody>\n",
       "</table>\n",
       "</div>"
      ],
      "text/plain": [
       "                age        fnlwgt  education_num  capital_gain  capital_loss  \\\n",
       "count  32561.000000  3.256100e+04   32561.000000  32561.000000  32561.000000   \n",
       "mean      38.581647  1.897784e+05      10.080679   1077.648844     87.303830   \n",
       "std       13.640433  1.055500e+05       2.572720   7385.292085    402.960219   \n",
       "min       17.000000  1.228500e+04       1.000000      0.000000      0.000000   \n",
       "25%       28.000000  1.178270e+05       9.000000      0.000000      0.000000   \n",
       "50%       37.000000  1.783560e+05      10.000000      0.000000      0.000000   \n",
       "75%       48.000000  2.370510e+05      12.000000      0.000000      0.000000   \n",
       "max       90.000000  1.484705e+06      16.000000  99999.000000   4356.000000   \n",
       "\n",
       "       hours_per_week  \n",
       "count    32561.000000  \n",
       "mean        40.437456  \n",
       "std         12.347429  \n",
       "min          1.000000  \n",
       "25%         40.000000  \n",
       "50%         40.000000  \n",
       "75%         45.000000  \n",
       "max         99.000000  "
      ]
     },
     "execution_count": 5,
     "metadata": {},
     "output_type": "execute_result"
    }
   ],
   "source": [
    "print(\"Summary Statistics:\")\n",
    "data.describe()"
   ]
  },
  {
   "cell_type": "code",
   "execution_count": 6,
   "id": "b3ae9dd1-9bfd-4821-ba57-df4f67310262",
   "metadata": {},
   "outputs": [
    {
     "name": "stdout",
     "output_type": "stream",
     "text": [
      "\n",
      "Data Types:\n",
      "age                int64\n",
      "workclass         object\n",
      "fnlwgt             int64\n",
      "education         object\n",
      "education_num      int64\n",
      "marital_status    object\n",
      "occupation        object\n",
      "relationship      object\n",
      "race              object\n",
      "sex               object\n",
      "capital_gain       int64\n",
      "capital_loss       int64\n",
      "hours_per_week     int64\n",
      "native_country    object\n",
      "income            object\n",
      "dtype: object\n"
     ]
    }
   ],
   "source": [
    "print(\"\\nData Types:\")\n",
    "print(data.dtypes)"
   ]
  },
  {
   "cell_type": "code",
   "execution_count": 7,
   "id": "70f50b4f-430c-4282-9cb8-e6ff6031a62a",
   "metadata": {},
   "outputs": [
    {
     "name": "stdout",
     "output_type": "stream",
     "text": [
      "\n",
      "Missing Values:\n",
      "age               0\n",
      "workclass         0\n",
      "fnlwgt            0\n",
      "education         0\n",
      "education_num     0\n",
      "marital_status    0\n",
      "occupation        0\n",
      "relationship      0\n",
      "race              0\n",
      "sex               0\n",
      "capital_gain      0\n",
      "capital_loss      0\n",
      "hours_per_week    0\n",
      "native_country    0\n",
      "income            0\n",
      "dtype: int64\n"
     ]
    }
   ],
   "source": [
    "print(\"\\nMissing Values:\")\n",
    "print(data.isnull().sum())"
   ]
  },
  {
   "cell_type": "code",
   "execution_count": 8,
   "id": "14dd8ebc-a445-409a-aa2a-2a1a968d8673",
   "metadata": {},
   "outputs": [],
   "source": [
    "# For numerical columns, replace missing values with mean\n",
    "numerical_cols = data.select_dtypes(include=['int64', 'float64']).columns\n",
    "data[numerical_cols] = data[numerical_cols].fillna(data[numerical_cols].mean())"
   ]
  },
  {
   "cell_type": "code",
   "execution_count": 9,
   "id": "67bdcf28-7c69-4b7d-8129-c07369c320dc",
   "metadata": {},
   "outputs": [],
   "source": [
    "# For numerical columns, replace missing values with mean\n",
    "numerical_cols = data.select_dtypes(include=['int64', 'float64']).columns\n",
    "data[numerical_cols] = data[numerical_cols].fillna(data[numerical_cols].mean())"
   ]
  },
  {
   "cell_type": "code",
   "execution_count": 10,
   "id": "2e98a591-0297-4a64-926b-71c6f25c4822",
   "metadata": {},
   "outputs": [
    {
     "name": "stdout",
     "output_type": "stream",
     "text": [
      "Missing values after imputation:\n",
      "age               0\n",
      "workclass         0\n",
      "fnlwgt            0\n",
      "education         0\n",
      "education_num     0\n",
      "marital_status    0\n",
      "occupation        0\n",
      "relationship      0\n",
      "race              0\n",
      "sex               0\n",
      "capital_gain      0\n",
      "capital_loss      0\n",
      "hours_per_week    0\n",
      "native_country    0\n",
      "income            0\n",
      "dtype: int64\n"
     ]
    }
   ],
   "source": [
    "# Check if missing values are handled\n",
    "print(\"Missing values after imputation:\")\n",
    "print(data.isnull().sum())"
   ]
  },
  {
   "cell_type": "code",
   "execution_count": 11,
   "id": "c916314c-59db-4404-abca-061200270bd4",
   "metadata": {},
   "outputs": [],
   "source": [
    "from sklearn.preprocessing import StandardScaler, MinMaxScaler\n",
    "\n",
    "# Select numerical columns\n",
    "numerical_cols = data.select_dtypes(include=['int64', 'float64']).columns\n",
    "\n",
    "# Standard Scaling\n",
    "scaler_standard = StandardScaler()\n",
    "data_standard_scaled = data.copy()\n",
    "data_standard_scaled[numerical_cols] = scaler_standard.fit_transform(data[numerical_cols])"
   ]
  },
  {
   "cell_type": "code",
   "execution_count": 12,
   "id": "52c829d5-7296-453c-a25f-a7fd123c36a1",
   "metadata": {},
   "outputs": [
    {
     "name": "stdout",
     "output_type": "stream",
     "text": [
      "Data after Standard Scaling:\n",
      "        age          workclass    fnlwgt   education  education_num  \\\n",
      "0  0.030671          State-gov -1.063611   Bachelors       1.134739   \n",
      "1  0.837109   Self-emp-not-inc -1.008707   Bachelors       1.134739   \n",
      "2 -0.042642            Private  0.245079     HS-grad      -0.420060   \n",
      "3  1.057047            Private  0.425801        11th      -1.197459   \n",
      "4 -0.775768            Private  1.408176   Bachelors       1.134739   \n",
      "\n",
      "        marital_status          occupation    relationship    race      sex  \\\n",
      "0        Never-married        Adm-clerical   Not-in-family   White     Male   \n",
      "1   Married-civ-spouse     Exec-managerial         Husband   White     Male   \n",
      "2             Divorced   Handlers-cleaners   Not-in-family   White     Male   \n",
      "3   Married-civ-spouse   Handlers-cleaners         Husband   Black     Male   \n",
      "4   Married-civ-spouse      Prof-specialty            Wife   Black   Female   \n",
      "\n",
      "   capital_gain  capital_loss  hours_per_week  native_country  income  \n",
      "0      0.148453      -0.21666       -0.035429   United-States   <=50K  \n",
      "1     -0.145920      -0.21666       -2.222153   United-States   <=50K  \n",
      "2     -0.145920      -0.21666       -0.035429   United-States   <=50K  \n",
      "3     -0.145920      -0.21666       -0.035429   United-States   <=50K  \n",
      "4     -0.145920      -0.21666       -0.035429            Cuba   <=50K  \n",
      "\n",
      "Data after Min-Max Scaling:\n",
      "        age          workclass    fnlwgt   education  education_num  \\\n",
      "0  0.301370          State-gov  0.044302   Bachelors       0.800000   \n",
      "1  0.452055   Self-emp-not-inc  0.048238   Bachelors       0.800000   \n",
      "2  0.287671            Private  0.138113     HS-grad       0.533333   \n",
      "3  0.493151            Private  0.151068        11th       0.400000   \n",
      "4  0.150685            Private  0.221488   Bachelors       0.800000   \n",
      "\n",
      "        marital_status          occupation    relationship    race      sex  \\\n",
      "0        Never-married        Adm-clerical   Not-in-family   White     Male   \n",
      "1   Married-civ-spouse     Exec-managerial         Husband   White     Male   \n",
      "2             Divorced   Handlers-cleaners   Not-in-family   White     Male   \n",
      "3   Married-civ-spouse   Handlers-cleaners         Husband   Black     Male   \n",
      "4   Married-civ-spouse      Prof-specialty            Wife   Black   Female   \n",
      "\n",
      "   capital_gain  capital_loss  hours_per_week  native_country  income  \n",
      "0       0.02174           0.0        0.397959   United-States   <=50K  \n",
      "1       0.00000           0.0        0.122449   United-States   <=50K  \n",
      "2       0.00000           0.0        0.397959   United-States   <=50K  \n",
      "3       0.00000           0.0        0.397959   United-States   <=50K  \n",
      "4       0.00000           0.0        0.397959            Cuba   <=50K  \n"
     ]
    }
   ],
   "source": [
    "# Min-Max Scaling\n",
    "scaler_minmax = MinMaxScaler()\n",
    "data_minmax_scaled = data.copy()\n",
    "data_minmax_scaled[numerical_cols] = scaler_minmax.fit_transform(data[numerical_cols])\n",
    "\n",
    "# Display scaled data\n",
    "print(\"Data after Standard Scaling:\")\n",
    "print(data_standard_scaled.head())\n",
    "\n",
    "print(\"\\nData after Min-Max Scaling:\")\n",
    "print(data_minmax_scaled.head())"
   ]
  },
  {
   "cell_type": "code",
   "execution_count": 13,
   "id": "1f7c7bc0-1d17-42f0-acde-9a6f91cf6a73",
   "metadata": {},
   "outputs": [
    {
     "name": "stdout",
     "output_type": "stream",
     "text": [
      "Data after One-Hot Encoding:\n",
      "   age          workclass  fnlwgt   education  education_num  \\\n",
      "0   39          State-gov   77516   Bachelors             13   \n",
      "1   50   Self-emp-not-inc   83311   Bachelors             13   \n",
      "2   38            Private  215646     HS-grad              9   \n",
      "3   53            Private  234721        11th              7   \n",
      "4   28            Private  338409   Bachelors             13   \n",
      "\n",
      "        marital_status          occupation    relationship    race  \\\n",
      "0        Never-married        Adm-clerical   Not-in-family   White   \n",
      "1   Married-civ-spouse     Exec-managerial         Husband   White   \n",
      "2             Divorced   Handlers-cleaners   Not-in-family   White   \n",
      "3   Married-civ-spouse   Handlers-cleaners         Husband   Black   \n",
      "4   Married-civ-spouse      Prof-specialty            Wife   Black   \n",
      "\n",
      "   capital_gain  capital_loss  hours_per_week  native_country  sex_ Male  \\\n",
      "0          2174             0              40   United-States          1   \n",
      "1             0             0              13   United-States          1   \n",
      "2             0             0              40   United-States          1   \n",
      "3             0             0              40   United-States          1   \n",
      "4             0             0              40            Cuba          0   \n",
      "\n",
      "   income_ >50K  \n",
      "0             0  \n",
      "1             0  \n",
      "2             0  \n",
      "3             0  \n",
      "4             0  \n"
     ]
    }
   ],
   "source": [
    "# Define categorical columns\n",
    "categorical_cols = data.select_dtypes(include=['object']).columns\n",
    "\n",
    "# Select categorical columns with less than 5 categories\n",
    "categorical_cols_less_than_5 = [col for col in categorical_cols if data[col].nunique() < 5]\n",
    "\n",
    "# Apply One-Hot Encoding\n",
    "data_encoded = pd.get_dummies(data, columns=categorical_cols_less_than_5, drop_first=True)\n",
    "\n",
    "# Display encoded data\n",
    "print(\"Data after One-Hot Encoding:\")\n",
    "print(data_encoded.head())"
   ]
  },
  {
   "cell_type": "code",
   "execution_count": 14,
   "id": "b6df8080-ecf4-4fa5-9497-63b94f0304c8",
   "metadata": {},
   "outputs": [
    {
     "name": "stdout",
     "output_type": "stream",
     "text": [
      "Data after Label Encoding:\n",
      "   age  workclass  fnlwgt  education  education_num  marital_status  \\\n",
      "0   39          7   77516          9             13               4   \n",
      "1   50          6   83311          9             13               2   \n",
      "2   38          4  215646         11              9               0   \n",
      "3   53          4  234721          1              7               2   \n",
      "4   28          4  338409          9             13               2   \n",
      "\n",
      "   occupation  relationship    race      sex  capital_gain  capital_loss  \\\n",
      "0           1             1   White     Male          2174             0   \n",
      "1           4             0   White     Male             0             0   \n",
      "2           6             1   White     Male             0             0   \n",
      "3           6             0   Black     Male             0             0   \n",
      "4          10             5   Black   Female             0             0   \n",
      "\n",
      "   hours_per_week  native_country  income  \n",
      "0              40              39   <=50K  \n",
      "1              13              39   <=50K  \n",
      "2              40              39   <=50K  \n",
      "3              40              39   <=50K  \n",
      "4              40               5   <=50K  \n"
     ]
    }
   ],
   "source": [
    "from sklearn.preprocessing import LabelEncoder\n",
    "\n",
    "# Select categorical columns with more than 5 categories\n",
    "categorical_cols_more_than_5 = [col for col in categorical_cols if data[col].nunique() > 5]\n",
    "\n",
    "# Apply Label Encoding\n",
    "label_encoder = LabelEncoder()\n",
    "data_encoded = data.copy()\n",
    "for col in categorical_cols_more_than_5:\n",
    "    data_encoded[col] = label_encoder.fit_transform(data[col])\n",
    "\n",
    "# Display encoded data\n",
    "print(\"Data after Label Encoding:\")\n",
    "print(data_encoded.head())"
   ]
  },
  {
   "cell_type": "markdown",
   "id": "b9d9c497-4425-40a9-8cae-5ede4cd9c4fd",
   "metadata": {},
   "source": [
    "#### One-Hot Encoding:"
   ]
  },
  {
   "cell_type": "markdown",
   "id": "5a4bbfa6-49c6-4d49-8217-d22464ec8ff1",
   "metadata": {},
   "source": [
    "#### Pros:\n",
    "\n",
    "Maintains independence: One-hot encoding creates binary columns for each category, ensuring that no ordinal relationship is assumed between categories. This is useful for categorical variables where no inherent order exists.\n",
    "Preserves information: Each category is represented by its own binary column, preserving all the information present in the original categorical variable.\n",
    "Compatible with most algorithms: One-hot encoded features are generally accepted by most machine learning algorithms."
   ]
  },
  {
   "cell_type": "markdown",
   "id": "52d40b05-a126-4fd8-a12b-574ca4bd6f60",
   "metadata": {},
   "source": [
    "#### Cons:\n",
    "\n",
    "Dimensionality: One-hot encoding can greatly increase the dimensionality of the dataset, especially if the categorical variable has many unique categories. This can lead to the curse of dimensionality and computational inefficiency.\n",
    "Collinearity: The presence of many one-hot encoded columns can introduce multicollinearity, which might affect the performance of certain algorithms, such as linear models.\n",
    "Sparse matrices: The resulting encoded matrix is often sparse, with mostly zeros, which can consume a lot of memory and computational resources."
   ]
  },
  {
   "cell_type": "markdown",
   "id": "6112aa92-79d8-4082-9c1c-9f818d3ba85c",
   "metadata": {},
   "source": [
    "#### Label Encoding:"
   ]
  },
  {
   "cell_type": "markdown",
   "id": "8f0f080b-51b1-4c62-b391-832e4c679303",
   "metadata": {},
   "source": [
    "Pros:\n",
    "\n",
    "Compact representation: Label encoding replaces categories with integers, resulting in a more compact representation compared to one-hot encoding, especially for categorical variables with many unique categories.\n",
    "Preserves order: Label encoding preserves the ordinal relationship between categories, which might be desirable for certain categorical variables where such an order exists.\n",
    "Reduced dimensionality: Label encoding reduces the dimensionality of the dataset compared to one-hot encoding, which can be beneficial for memory and computational efficiency."
   ]
  },
  {
   "cell_type": "markdown",
   "id": "dbba3187-a844-41f2-8a56-aa8a4f5a0c58",
   "metadata": {},
   "source": [
    "Cons:\n",
    "\n",
    "Arbitrary values: The integers assigned to categories are arbitrary and do not necessarily reflect any meaningful relationship between categories. This might mislead algorithms that assume ordinal relationships.\n",
    "Potential bias: Algorithms might interpret the encoded integers as meaningful features, even though they are just placeholders. This can introduce bias in the model's predictions.\n",
    "Not suitable for all algorithms: Some algorithms might not perform well with label encoded features, especially those that assume ordinality or have a notion of distance between categories (e.g., KNN)."
   ]
  },
  {
   "cell_type": "code",
   "execution_count": 15,
   "id": "538c893d-2fc1-4cef-958a-bf8dad54aa48",
   "metadata": {},
   "outputs": [
    {
     "name": "stdout",
     "output_type": "stream",
     "text": [
      "Dataset with new features:\n",
      "   age          workclass  fnlwgt   education  education_num  \\\n",
      "0   39          State-gov   77516   Bachelors             13   \n",
      "1   50   Self-emp-not-inc   83311   Bachelors             13   \n",
      "2   38            Private  215646     HS-grad              9   \n",
      "3   53            Private  234721        11th              7   \n",
      "4   28            Private  338409   Bachelors             13   \n",
      "\n",
      "        marital_status          occupation    relationship    race      sex  \\\n",
      "0        Never-married        Adm-clerical   Not-in-family   White     Male   \n",
      "1   Married-civ-spouse     Exec-managerial         Husband   White     Male   \n",
      "2             Divorced   Handlers-cleaners   Not-in-family   White     Male   \n",
      "3   Married-civ-spouse   Handlers-cleaners         Husband   Black     Male   \n",
      "4   Married-civ-spouse      Prof-specialty            Wife   Black   Female   \n",
      "\n",
      "   capital_gain  capital_loss  hours_per_week  native_country  income  \\\n",
      "0          2174             0              40   United-States     NaN   \n",
      "1             0             0              13   United-States     NaN   \n",
      "2             0             0              40   United-States     NaN   \n",
      "3             0             0              40   United-States     NaN   \n",
      "4             0             0              40            Cuba     NaN   \n",
      "\n",
      "   income_to_hours_ratio  education_level_weighted  \n",
      "0                    NaN                       169  \n",
      "1                    NaN                       169  \n",
      "2                    NaN                        81  \n",
      "3                    NaN                        49  \n",
      "4                    NaN                       169  \n"
     ]
    }
   ],
   "source": [
    "# Convert 'income' and 'hours_per_week' to numeric type\n",
    "data['income'] = pd.to_numeric(data['income'], errors='coerce')\n",
    "data['hours_per_week'] = pd.to_numeric(data['hours_per_week'], errors='coerce')\n",
    "\n",
    "# Create new feature: Income-to-Hours Ratio\n",
    "data['income_to_hours_ratio'] = data['income'] / data['hours_per_week']\n",
    "\n",
    "# Create new feature: Education Level Weighted by Education Years\n",
    "data['education_level_weighted'] = data['education_num'] * data['education_num']\n",
    "\n",
    "# Display the first few rows of the dataset with new features\n",
    "print(\"Dataset with new features:\")\n",
    "print(data.head())"
   ]
  },
  {
   "cell_type": "code",
   "execution_count": 16,
   "id": "5fffeb92-9ca3-4bd2-a981-06468536245b",
   "metadata": {},
   "outputs": [
    {
     "data": {
      "image/png": "[encoded data removed]",
      "text/plain": [
       "<Figure size 1200x500 with 2 Axes>"
      ]
     },
     "metadata": {},
     "output_type": "display_data"
    }
   ],
   "source": [
    "import numpy as np\n",
    "\n",
    "# Apply log transformation to 'capital_gain'\n",
    "data['capital_gain_log'] = np.log1p(data['capital_gain'])\n",
    "\n",
    "# Display the distribution of 'capital_gain' before and after transformation\n",
    "import matplotlib.pyplot as plt\n",
    "import seaborn as sns\n",
    "\n",
    "plt.figure(figsize=(12, 5))\n",
    "\n",
    "# Plot original distribution\n",
    "plt.subplot(1, 2, 1)\n",
    "sns.histplot(data['capital_gain'], bins=50, kde=True)\n",
    "plt.title('Original Distribution')\n",
    "\n",
    "# Plot distribution after log transformation\n",
    "plt.subplot(1, 2, 2)\n",
    "sns.histplot(data['capital_gain_log'], bins=50, kde=True)\n",
    "plt.title('Log Transformed Distribution')\n",
    "\n",
    "plt.tight_layout()\n",
    "plt.show()"
   ]
  },
  {
   "cell_type": "code",
   "execution_count": 26,
   "id": "19c32034-6ccb-4601-9655-7fbcfae5826d",
   "metadata": {},
   "outputs": [],
   "source": [
    "from sklearn.ensemble import IsolationForest\n",
    "from sklearn.impute import SimpleImputer\n",
    "\n",
    "# Instantiate SimpleImputer with strategy='mean'\n",
    "imputer = SimpleImputer(strategy='mean')\n",
    "\n",
    "# Fit and transform the imputer on the numerical columns\n",
    "data_imputed = imputer.fit_transform(data.select_dtypes(include=['int64', 'float64']))\n",
    "\n",
    "# Apply Isolation Forest\n",
    "iso_forest = IsolationForest(contamination=0.05, random_state=42)\n",
    "outlier_preds = iso_forest.fit_predict(data_imputed)"
   ]
  },
  {
   "cell_type": "code",
   "execution_count": 27,
   "id": "07872cad-02cc-41cb-a309-5c562be20031",
   "metadata": {},
   "outputs": [
    {
     "name": "stdout",
     "output_type": "stream",
     "text": [
      "\n",
      "Correlation Matrix:\n",
      "                               age    fnlwgt  education_num  capital_gain  \\\n",
      "age                       1.000000 -0.076646       0.036527      0.077674   \n",
      "fnlwgt                   -0.076646  1.000000      -0.043195      0.000432   \n",
      "education_num             0.036527 -0.043195       1.000000      0.122630   \n",
      "capital_gain              0.077674  0.000432       0.122630      1.000000   \n",
      "capital_loss              0.057775 -0.010252       0.079923     -0.031615   \n",
      "hours_per_week            0.068756 -0.018768       0.148123      0.078409   \n",
      "income                         NaN       NaN            NaN           NaN   \n",
      "income_to_hours_ratio          NaN       NaN            NaN           NaN   \n",
      "education_level_weighted  0.069002 -0.036462       0.978415      0.138662   \n",
      "capital_gain_log          0.124183 -0.004414       0.129135      0.564520   \n",
      "\n",
      "                          capital_loss  hours_per_week  income  \\\n",
      "age                           0.057775        0.068756     NaN   \n",
      "fnlwgt                       -0.010252       -0.018768     NaN   \n",
      "education_num                 0.079923        0.148123     NaN   \n",
      "capital_gain                 -0.031615        0.078409     NaN   \n",
      "capital_loss                  1.000000        0.054256     NaN   \n",
      "hours_per_week                0.054256        1.000000     NaN   \n",
      "income                             NaN             NaN     NaN   \n",
      "income_to_hours_ratio              NaN             NaN     NaN   \n",
      "education_level_weighted      0.088548        0.157168     NaN   \n",
      "capital_gain_log             -0.064840        0.083821     NaN   \n",
      "\n",
      "                          income_to_hours_ratio  education_level_weighted  \\\n",
      "age                                         NaN                  0.069002   \n",
      "fnlwgt                                      NaN                 -0.036462   \n",
      "education_num                               NaN                  0.978415   \n",
      "capital_gain                                NaN                  0.138662   \n",
      "capital_loss                                NaN                  0.088548   \n",
      "hours_per_week                              NaN                  0.157168   \n",
      "income                                      NaN                       NaN   \n",
      "income_to_hours_ratio                       NaN                       NaN   \n",
      "education_level_weighted                    NaN                  1.000000   \n",
      "capital_gain_log                            NaN                  0.141473   \n",
      "\n",
      "                          capital_gain_log  \n",
      "age                               0.124183  \n",
      "fnlwgt                           -0.004414  \n",
      "education_num                     0.129135  \n",
      "capital_gain                      0.564520  \n",
      "capital_loss                     -0.064840  \n",
      "hours_per_week                    0.083821  \n",
      "income                                 NaN  \n",
      "income_to_hours_ratio                  NaN  \n",
      "education_level_weighted          0.141473  \n",
      "capital_gain_log                  1.000000  \n"
     ]
    },
    {
     "name": "stderr",
     "output_type": "stream",
     "text": [
      "C:\\Users\\RAHUL\\AppData\\Local\\Temp\\ipykernel_2240\\939986905.py:8: FutureWarning: The default value of numeric_only in DataFrame.corr is deprecated. In a future version, it will default to False. Select only valid columns or specify the value of numeric_only to silence this warning.\n",
      "  correlation_matrix = data.corr()\n"
     ]
    }
   ],
   "source": [
    "import ppscore as pps\n",
    "import pandas as pd\n",
    "\n",
    "# Assuming 'data' is your DataFrame containing the dataset\n",
    "\n",
    "\n",
    "# Compare with the correlation matrix\n",
    "correlation_matrix = data.corr()\n",
    "\n",
    "# Display the correlation matrix\n",
    "print(\"\\nCorrelation Matrix:\")\n",
    "print(correlation_matrix)"
   ]
  },
  {
   "cell_type": "code",
   "execution_count": null,
   "id": "2f39ee84-e478-4f34-9d4f-f6ddba3e60e2",
   "metadata": {},
   "outputs": [],
   "source": []
  }
 ],
 "metadata": {
  "kernelspec": {
   "display_name": "Python 3 (ipykernel)",
   "language": "python",
   "name": "python3"
  },
  "language_info": {
   "codemirror_mode": {
    "name": "ipython",
    "version": 3
   },
   "file_extension": ".py",
   "mimetype": "text/x-python",
   "name": "python",
   "nbconvert_exporter": "python",
   "pygments_lexer": "ipython3",
   "version": "3.11.7"
  }
 },
 "nbformat": 4,
 "nbformat_minor": 5
}
