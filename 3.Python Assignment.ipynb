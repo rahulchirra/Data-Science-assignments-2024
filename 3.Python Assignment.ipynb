{
 "cells": [
  {
   "cell_type": "markdown",
   "id": "4864555f-6e3a-4f24-a97d-fa802415cd34",
   "metadata": {},
   "source": [
    "#### Exercise 1: Prime Numbers"
   ]
  },
  {
   "cell_type": "code",
   "id": "e5e60451-5240-49e9-9219-08a693020ffc",
   "metadata": {
    "ExecuteTime": {
     "end_time": "2024-04-23T20:52:09.134455Z",
     "start_time": "2024-04-23T20:52:02.795317Z"
    }
   },
   "source": [
    "def is_prime(num):\n",
    "    if num <= 1:\n",
    "        return False\n",
    "    if num <= 3:\n",
    "        return True\n",
    "    if num % 2 == 0 or num % 3 == 0:\n",
    "        return False\n",
    "    i = 5\n",
    "    while i * i <= num:\n",
    "        if num % i == 0 or num % (i + 2) == 0:\n",
    "            return False\n",
    "        i += 6\n",
    "    return True\n",
    "\n",
    "# Test the function\n",
    "number = int(input(\"Enter a number: \"))\n",
    "if is_prime(number):\n",
    "    print(number, \"is a prime number\")\n",
    "else:\n",
    "    print(number, \"is not a prime number\")\n"
   ],
   "outputs": [
    {
     "name": "stdout",
     "output_type": "stream",
     "text": [
      "6 is not a prime number\n"
     ]
    }
   ],
   "execution_count": 1
  },
  {
   "cell_type": "markdown",
   "id": "1ec453c2-de6f-4a7c-9a9c-2cb47d0a7cee",
   "metadata": {},
   "source": [
    "#### Exercise 2: Product of Random Numbers"
   ]
  },
  {
   "cell_type": "code",
   "execution_count": 7,
   "id": "09949068-b32f-463e-9790-a10c4d9d373d",
   "metadata": {},
   "outputs": [
    {
     "name": "stdin",
     "output_type": "stream",
     "text": [
      "What is the product of 3 and 9?  5\n"
     ]
    },
    {
     "name": "stdout",
     "output_type": "stream",
     "text": [
      "Sorry, the correct answer is 27.\n"
     ]
    }
   ],
   "source": [
    "import random\n",
    "\n",
    "def generate_numbers():\n",
    "    num1 = random.randint(1, 10)\n",
    "    num2 = random.randint(1, 10)\n",
    "    return num1, num2\n",
    "\n",
    "def main():\n",
    "    num1, num2 = generate_numbers()\n",
    "    product = num1 * num2\n",
    "    \n",
    "    user_answer = int(input(f\"What is the product of {num1} and {num2}? \"))\n",
    "    \n",
    "    if user_answer == product:\n",
    "        print(\"Correct! Well done!\")\n",
    "    else:\n",
    "        print(f\"Sorry, the correct answer is {product}.\")\n",
    "\n",
    "if __name__ == \"__main__\":\n",
    "    main()"
   ]
  },
  {
   "cell_type": "markdown",
   "id": "4ade2031-4e98-4014-b792-435c0787d5d9",
   "metadata": {},
   "source": [
    "#### Exercise 3: Squares of Even/Odd Numbers"
   ]
  },
  {
   "cell_type": "code",
   "execution_count": 8,
   "id": "2f62a689-73b2-4115-9313-146c196a5650",
   "metadata": {
    "scrolled": true
   },
   "outputs": [
    {
     "name": "stdout",
     "output_type": "stream",
     "text": [
      "Squares of even numbers within the range of 100 to 200:\n",
      "10000\n",
      "10404\n",
      "10816\n",
      "11236\n",
      "11664\n",
      "12100\n",
      "12544\n",
      "12996\n",
      "13456\n",
      "13924\n",
      "14400\n",
      "14884\n",
      "15376\n",
      "15876\n",
      "16384\n",
      "16900\n",
      "17424\n",
      "17956\n",
      "18496\n",
      "19044\n",
      "19600\n",
      "20164\n",
      "20736\n",
      "21316\n",
      "21904\n",
      "22500\n",
      "23104\n",
      "23716\n",
      "24336\n",
      "24964\n",
      "25600\n",
      "26244\n",
      "26896\n",
      "27556\n",
      "28224\n",
      "28900\n",
      "29584\n",
      "30276\n",
      "30976\n",
      "31684\n",
      "32400\n",
      "33124\n",
      "33856\n",
      "34596\n",
      "35344\n",
      "36100\n",
      "36864\n",
      "37636\n",
      "38416\n",
      "39204\n",
      "40000\n"
     ]
    }
   ],
   "source": [
    "def print_even_squares():\n",
    "    print(\"Squares of even numbers within the range of 100 to 200:\")\n",
    "    for num in range(100, 201, 2):\n",
    "        print(num ** 2)\n",
    "\n",
    "print_even_squares()\n"
   ]
  },
  {
   "cell_type": "markdown",
   "id": "5978f182-cea0-40f3-bec5-6ead3ea1cdcc",
   "metadata": {},
   "source": [
    "#### Exercise 4: Word counter"
   ]
  },
  {
   "cell_type": "code",
   "execution_count": 9,
   "id": "a745ec90-216a-4481-aca1-6617cb513193",
   "metadata": {},
   "outputs": [
    {
     "name": "stdout",
     "output_type": "stream",
     "text": [
      "'This': 2\n",
      "'is': 1\n",
      "'a': 1\n",
      "'sample': 1\n",
      "'text.': 1\n",
      "'text': 1\n",
      "'will': 1\n",
      "'be': 1\n",
      "'used': 1\n",
      "'to': 1\n",
      "'demonstrate': 1\n",
      "'the': 1\n",
      "'word': 1\n",
      "'counter.': 1\n"
     ]
    }
   ],
   "source": [
    "def count_words(text):\n",
    "    word_count = {}\n",
    "    words = text.split()\n",
    "    for word in words:\n",
    "        if word in word_count:\n",
    "            word_count[word] += 1\n",
    "        else:\n",
    "            word_count[word] = 1\n",
    "    return word_count\n",
    "\n",
    "input_text = \"This is a sample text. This text will be used to demonstrate the word counter.\"\n",
    "word_count = count_words(input_text)\n",
    "\n",
    "for word, count in word_count.items():\n",
    "    print(f\"'{word}': {count}\")\n"
   ]
  },
  {
   "cell_type": "markdown",
   "id": "2b4eb6d1-bcb3-4382-a620-7ca3ebefc600",
   "metadata": {},
   "source": [
    "#### Exercise 5: Check for Palindrome"
   ]
  },
  {
   "cell_type": "code",
   "execution_count": 11,
   "id": "23bc4090-5011-43ce-8228-4ec83d93423a",
   "metadata": {},
   "outputs": [
    {
     "name": "stdout",
     "output_type": "stream",
     "text": [
      "True\n"
     ]
    }
   ],
   "source": [
    "def is_palindrome(s):\n",
    "    # Convert the string to lowercase\n",
    "    s = s.lower()\n",
    "    \n",
    "    # Remove non-alphanumeric characters\n",
    "    s = ''.join(char for char in s if char.isalnum())\n",
    "    \n",
    "    # Check if the string is equal to its reverse\n",
    "    return s == s[::-1]\n",
    "\n",
    "# Test the function\n",
    "input_str = \"A man, a plan, a canal, Panama!\"\n",
    "print(is_palindrome(input_str)) "
   ]
  },
  {
   "cell_type": "code",
   "execution_count": null,
   "id": "eae270d6-79c9-4ddd-9ccc-512dfdff20d6",
   "metadata": {},
   "outputs": [],
   "source": []
  }
 ],
 "metadata": {
  "kernelspec": {
   "display_name": "Python 3 (ipykernel)",
   "language": "python",
   "name": "python3"
  },
  "language_info": {
   "codemirror_mode": {
    "name": "ipython",
    "version": 3
   },
   "file_extension": ".py",
   "mimetype": "text/x-python",
   "name": "python",
   "nbconvert_exporter": "python",
   "pygments_lexer": "ipython3",
   "version": "3.11.7"
  }
 },
 "nbformat": 4,
 "nbformat_minor": 5
}
